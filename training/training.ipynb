{
 "cells": [
  {
   "cell_type": "code",
   "execution_count": 6,
   "metadata": {},
   "outputs": [
    {
     "name": "stdout",
     "output_type": "stream",
     "text": [
      "use: CPU\n"
     ]
    }
   ],
   "source": [
    "import os\n",
    "os.environ['TF_CPP_MIN_LOG_LEVEL'] = '3' \n",
    "\n",
    "import numpy as np\n",
    "import tensorflow as tf\n",
    "from tensorflow import keras\n",
    "from tensorflow.keras import layers\n",
    "import matplotlib.pyplot as plt\n",
    "import cv2\n",
    "\n",
    "physical_devices = tf.config.experimental.list_physical_devices('GPU')\n",
    "if physical_devices:\n",
    "  print('use: GPU')\n",
    "else:\n",
    "  print('use: CPU')"
   ]
  },
  {
   "cell_type": "code",
   "execution_count": 7,
   "metadata": {},
   "outputs": [],
   "source": [
    "DATASET_DIR = \"./data-augement/images-generate\"\n",
    "CATEGORIES = [\"one\", \"two\", \"three\", \"four\", \"five\", \"six\", \"seven\", \"eight\", \"nine\", \"ten\"]"
   ]
  },
  {
   "cell_type": "code",
   "execution_count": 8,
   "metadata": {},
   "outputs": [
    {
     "name": "stdout",
     "output_type": "stream",
     "text": [
      "20000\n"
     ]
    }
   ],
   "source": [
    "training_data = []\n",
    "def create_training_data() -> None:\n",
    "  for category in CATEGORIES:\n",
    "    path = os.path.join(DATASET_DIR, category)\n",
    "    class_num = CATEGORIES.index(category)\n",
    "    for img in os.listdir(path):\n",
    "      try:\n",
    "        img_array = cv2.imread(os.path.join(path, img), cv2.IMREAD_GRAYSCALE)\n",
    "        training_data.append([img_array, class_num])\n",
    "      except Exception as e:\n",
    "        pass\n",
    "      \n",
    "create_training_data()\n",
    "print(len(training_data))"
   ]
  },
  {
   "cell_type": "code",
   "execution_count": 9,
   "metadata": {},
   "outputs": [],
   "source": [
    "import random\n",
    "random.shuffle(training_data)"
   ]
  },
  {
   "cell_type": "code",
   "execution_count": 49,
   "metadata": {},
   "outputs": [
    {
     "name": "stdout",
     "output_type": "stream",
     "text": [
      "(20000, 28, 28, 1)\n",
      "(20000, 10)\n",
      "(2000, 28, 28, 1)\n",
      "(2000, 10)\n"
     ]
    }
   ],
   "source": [
    "input_shape = (28, 28, 1)\n",
    "num_classes = 10\n",
    "\n",
    "x_train = []\n",
    "y_train = []\n",
    "\n",
    "for features, label in training_data:\n",
    "  x_train.append(features)\n",
    "  y_train.append(label)\n",
    "\n",
    "x_train = np.array(x_train).reshape(-1, 28, 28, 1)\n",
    "x_train = x_train.astype(\"float32\") / 255\n",
    "\n",
    "y_train = np.array(y_train)\n",
    "y_train = keras.utils.to_categorical(y_train, num_classes)\n",
    "\n",
    "print(x_train.shape)\n",
    "print(y_train.shape)\n",
    "\n",
    "x_test = x_train[int(0.9 * 20000):,:]\n",
    "y_test = y_train[int(0.9 * 20000):,:]\n",
    "print(x_test.shape)\n",
    "print(y_test.shape)"
   ]
  },
  {
   "cell_type": "code",
   "execution_count": 11,
   "metadata": {},
   "outputs": [
    {
     "name": "stdout",
     "output_type": "stream",
     "text": [
      "Model: \"sequential\"\n",
      "_________________________________________________________________\n",
      " Layer (type)                Output Shape              Param #   \n",
      "=================================================================\n",
      " conv2d (Conv2D)             (None, 26, 26, 32)        320       \n",
      "                                                                 \n",
      " max_pooling2d (MaxPooling2D  (None, 13, 13, 32)       0         \n",
      " )                                                               \n",
      "                                                                 \n",
      " conv2d_1 (Conv2D)           (None, 11, 11, 64)        18496     \n",
      "                                                                 \n",
      " max_pooling2d_1 (MaxPooling  (None, 5, 5, 64)         0         \n",
      " 2D)                                                             \n",
      "                                                                 \n",
      " flatten (Flatten)           (None, 1600)              0         \n",
      "                                                                 \n",
      " dropout (Dropout)           (None, 1600)              0         \n",
      "                                                                 \n",
      " dense (Dense)               (None, 10)                16010     \n",
      "                                                                 \n",
      "=================================================================\n",
      "Total params: 34,826\n",
      "Trainable params: 34,826\n",
      "Non-trainable params: 0\n",
      "_________________________________________________________________\n"
     ]
    }
   ],
   "source": [
    "model = keras.Sequential(\n",
    "  [\n",
    "    keras.Input(shape=input_shape),\n",
    "    layers.Conv2D(32, kernel_size=(3, 3), activation=\"relu\"),\n",
    "    layers.MaxPooling2D(pool_size=(2, 2)),\n",
    "    layers.Conv2D(64, kernel_size=(3, 3), activation=\"relu\"),\n",
    "    layers.MaxPooling2D(pool_size=(2, 2)),\n",
    "    layers.Flatten(),\n",
    "    layers.Dropout(0.5),\n",
    "    layers.Dense(num_classes, activation=\"softmax\"),\n",
    "  ]\n",
    ")\n",
    "\n",
    "model.summary()"
   ]
  },
  {
   "cell_type": "code",
   "execution_count": 12,
   "metadata": {},
   "outputs": [
    {
     "name": "stdout",
     "output_type": "stream",
     "text": [
      "Epoch 1/20\n",
      "141/141 [==============================] - 14s 89ms/step - loss: 1.6780 - accuracy: 0.4261 - val_loss: 0.9915 - val_accuracy: 0.7105\n",
      "Epoch 2/20\n",
      "141/141 [==============================] - 18s 129ms/step - loss: 0.8140 - accuracy: 0.7401 - val_loss: 0.4890 - val_accuracy: 0.8735\n",
      "Epoch 3/20\n",
      "141/141 [==============================] - 18s 131ms/step - loss: 0.5136 - accuracy: 0.8405 - val_loss: 0.3226 - val_accuracy: 0.9075\n",
      "Epoch 4/20\n",
      "141/141 [==============================] - 13s 90ms/step - loss: 0.3918 - accuracy: 0.8779 - val_loss: 0.2553 - val_accuracy: 0.9360\n",
      "Epoch 5/20\n",
      "141/141 [==============================] - 12s 86ms/step - loss: 0.3203 - accuracy: 0.9006 - val_loss: 0.1970 - val_accuracy: 0.9500\n",
      "Epoch 6/20\n",
      "141/141 [==============================] - 12s 87ms/step - loss: 0.2636 - accuracy: 0.9193 - val_loss: 0.1631 - val_accuracy: 0.9550\n",
      "Epoch 7/20\n",
      "141/141 [==============================] - 13s 90ms/step - loss: 0.2278 - accuracy: 0.9298 - val_loss: 0.1338 - val_accuracy: 0.9635\n",
      "Epoch 8/20\n",
      "141/141 [==============================] - 13s 92ms/step - loss: 0.2008 - accuracy: 0.9387 - val_loss: 0.1174 - val_accuracy: 0.9680\n",
      "Epoch 9/20\n",
      "141/141 [==============================] - 13s 92ms/step - loss: 0.1851 - accuracy: 0.9433 - val_loss: 0.1094 - val_accuracy: 0.9720\n",
      "Epoch 10/20\n",
      "141/141 [==============================] - 16s 117ms/step - loss: 0.1654 - accuracy: 0.9487 - val_loss: 0.0932 - val_accuracy: 0.9760\n",
      "Epoch 11/20\n",
      "141/141 [==============================] - 14s 98ms/step - loss: 0.1407 - accuracy: 0.9580 - val_loss: 0.0822 - val_accuracy: 0.9785\n",
      "Epoch 12/20\n",
      "141/141 [==============================] - 14s 97ms/step - loss: 0.1350 - accuracy: 0.9589 - val_loss: 0.0833 - val_accuracy: 0.9765\n",
      "Epoch 13/20\n",
      "141/141 [==============================] - 14s 97ms/step - loss: 0.1221 - accuracy: 0.9621 - val_loss: 0.0764 - val_accuracy: 0.9780\n",
      "Epoch 14/20\n",
      "141/141 [==============================] - 18s 129ms/step - loss: 0.1133 - accuracy: 0.9652 - val_loss: 0.0634 - val_accuracy: 0.9830\n",
      "Epoch 15/20\n",
      "141/141 [==============================] - 14s 100ms/step - loss: 0.1055 - accuracy: 0.9670 - val_loss: 0.0600 - val_accuracy: 0.9855\n",
      "Epoch 16/20\n",
      "141/141 [==============================] - 17s 123ms/step - loss: 0.0971 - accuracy: 0.9715 - val_loss: 0.0554 - val_accuracy: 0.9865\n",
      "Epoch 17/20\n",
      "141/141 [==============================] - 14s 98ms/step - loss: 0.0973 - accuracy: 0.9687 - val_loss: 0.0595 - val_accuracy: 0.9840\n",
      "Epoch 18/20\n",
      "141/141 [==============================] - 16s 116ms/step - loss: 0.0884 - accuracy: 0.9741 - val_loss: 0.0475 - val_accuracy: 0.9875\n",
      "Epoch 19/20\n",
      "141/141 [==============================] - 14s 98ms/step - loss: 0.0859 - accuracy: 0.9741 - val_loss: 0.0479 - val_accuracy: 0.9865\n",
      "Epoch 20/20\n",
      "141/141 [==============================] - 13s 93ms/step - loss: 0.0799 - accuracy: 0.9751 - val_loss: 0.0423 - val_accuracy: 0.9880\n"
     ]
    },
    {
     "data": {
      "text/plain": [
       "<keras.callbacks.History at 0x23075fa7b80>"
      ]
     },
     "execution_count": 12,
     "metadata": {},
     "output_type": "execute_result"
    }
   ],
   "source": [
    "batch_size = 128\n",
    "epochs = 20\n",
    "\n",
    "model.compile(loss=\"categorical_crossentropy\", optimizer=\"adam\", metrics=[\"accuracy\"])\n",
    "model.fit(x_train, y_train, batch_size=batch_size, epochs=epochs, validation_split=0.1)"
   ]
  },
  {
   "cell_type": "code",
   "execution_count": 51,
   "metadata": {},
   "outputs": [
    {
     "name": "stdout",
     "output_type": "stream",
     "text": [
      "63/63 [==============================] - 1s 9ms/step - loss: 0.0423 - accuracy: 0.9880\n",
      "Test loss: 0.042286403477191925\n",
      "Test accuracy: 0.9879999756813049\n"
     ]
    }
   ],
   "source": [
    "score = model.evaluate(x_test, y_test)\n",
    "print(\"Test loss:\", score[0])\n",
    "print(\"Test accuracy:\", score[1])\n",
    "\n",
    "model.save('out/model_characters.h5')"
   ]
  }
 ],
 "metadata": {
  "kernelspec": {
   "display_name": "Python 3.10.7 64-bit",
   "language": "python",
   "name": "python3"
  },
  "language_info": {
   "codemirror_mode": {
    "name": "ipython",
    "version": 3
   },
   "file_extension": ".py",
   "mimetype": "text/x-python",
   "name": "python",
   "nbconvert_exporter": "python",
   "pygments_lexer": "ipython3",
   "version": "3.10.7"
  },
  "orig_nbformat": 4,
  "vscode": {
   "interpreter": {
    "hash": "e897c550e94c5fc911e005a5bf3bf0f508c13bb9e0eb4dacf44f1f6397443d70"
   }
  }
 },
 "nbformat": 4,
 "nbformat_minor": 2
}
